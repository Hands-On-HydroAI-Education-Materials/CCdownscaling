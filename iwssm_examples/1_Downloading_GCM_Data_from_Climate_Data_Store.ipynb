{
 "cells": [
  {
   "cell_type": "markdown",
   "id": "1f354130",
   "metadata": {},
   "source": [
    "# Downloading CIMP-6 Climate Data from Climate Data Store "
   ]
  },
  {
   "cell_type": "markdown",
   "id": "21f3fd20",
   "metadata": {},
   "source": [
    "* This notebook was developed to download Climate data that is produced for AR6 report using API from Climate Data Store. \n",
    "\n",
    "    https://cds.climate.copernicus.eu/datasets"
   ]
  },
  {
   "cell_type": "code",
   "execution_count": null,
   "id": "2905b1bf",
   "metadata": {},
   "outputs": [],
   "source": [
    "# import cdsapi to download climate data using API\n",
    "import cdsapi\n",
    "# set a api url and private key\n",
    "api_url = 'https://cds.climate.copernicus.eu/api'\n",
    "my_key = \"18534189-98f7-4abb-bb67-00dc96a3d2e9\"\n",
    "\n",
    "client = cdsapi.Client(url=api_url,key=my_key)\n",
    "\n",
    "# set a dataset\n",
    "dataset = \"projections-cmip6\""
   ]
  },
  {
   "cell_type": "markdown",
   "id": "738c0049",
   "metadata": {},
   "source": [
    "## 1. Download Historical GCM data"
   ]
  },
  {
   "cell_type": "markdown",
   "id": "fa8cfeb7",
   "metadata": {},
   "source": [
    "### 1.1 Set Temporal Resolution"
   ]
  },
  {
   "cell_type": "markdown",
   "id": "853e174c",
   "metadata": {},
   "source": [
    "<img src=\"./fig/CMIP6_1.png\" width=\"1100\">"
   ]
  },
  {
   "cell_type": "code",
   "execution_count": null,
   "id": "c048e2f7",
   "metadata": {},
   "outputs": [],
   "source": [
    "temporal_resolution = \"daily\""
   ]
  },
  {
   "cell_type": "markdown",
   "id": "fa8f8c08",
   "metadata": {},
   "source": [
    "### 1.2 Set Experiment \"Historical\""
   ]
  },
  {
   "cell_type": "markdown",
   "id": "820f639a",
   "metadata": {},
   "source": [
    "<img src=\"./fig/CMIP6_2.png\" width=\"1100\">"
   ]
  },
  {
   "cell_type": "code",
   "execution_count": null,
   "id": "5dfadbb6",
   "metadata": {},
   "outputs": [],
   "source": [
    "experiment = 'historical'"
   ]
  },
  {
   "cell_type": "markdown",
   "id": "77cc0e61",
   "metadata": {},
   "source": [
    "### 1.3 Set Variable (example: precipitation)"
   ]
  },
  {
   "cell_type": "markdown",
   "id": "2dfaec86",
   "metadata": {},
   "source": [
    "<img src=\"./fig/CMIP6_3.png\" width=\"1100\">"
   ]
  },
  {
   "cell_type": "code",
   "execution_count": null,
   "id": "e34947d9",
   "metadata": {},
   "outputs": [],
   "source": [
    "variable = 'precipitation'"
   ]
  },
  {
   "cell_type": "markdown",
   "id": "c77ca1ea",
   "metadata": {},
   "source": [
    "### 1.4 Set Model (example:EC-Earth3-CC(Europe))"
   ]
  },
  {
   "cell_type": "markdown",
   "id": "cb593489",
   "metadata": {},
   "source": [
    "<img src=\"./fig/model.png\" width=\"1100\">"
   ]
  },
  {
   "cell_type": "code",
   "execution_count": null,
   "id": "cc19c4d9",
   "metadata": {},
   "outputs": [],
   "source": [
    "model =  'ec_earth3_cc'"
   ]
  },
  {
   "cell_type": "markdown",
   "id": "b8f878bc",
   "metadata": {},
   "source": [
    "### 1.5 Set Temporal subset"
   ]
  },
  {
   "cell_type": "markdown",
   "id": "95dd46ae",
   "metadata": {},
   "source": [
    "<img src=\"./fig/CMIP6_5_1.png\" width=\"1100\">"
   ]
  },
  {
   "cell_type": "markdown",
   "id": "7296a6bf",
   "metadata": {},
   "source": [
    "<img src=\"./fig/CMIP6_5_2.png\" width=\"1100\">"
   ]
  },
  {
   "cell_type": "code",
   "execution_count": null,
   "id": "453bbb46",
   "metadata": {},
   "outputs": [],
   "source": [
    "year = [\"2000\", \"2001\", \"2002\",\n",
    "        \"2003\", \"2004\", \"2005\",\n",
    "        \"2006\", \"2007\", \"2008\",\n",
    "        \"2009\", \"2010\", \"2011\",\n",
    "        \"2012\", \"2013\", \"2014\" ]"
   ]
  },
  {
   "cell_type": "code",
   "execution_count": null,
   "id": "98b7add1",
   "metadata": {},
   "outputs": [],
   "source": [
    "month = [\"01\", \"02\", \"03\",\n",
    "        \"04\", \"05\", \"06\",\n",
    "        \"07\", \"08\", \"09\",\n",
    "        \"10\", \"11\", \"12\"]"
   ]
  },
  {
   "cell_type": "code",
   "execution_count": null,
   "id": "38a8af8b",
   "metadata": {},
   "outputs": [],
   "source": [
    "day = [ \"01\", \"02\", \"03\",\n",
    "        \"04\", \"05\", \"06\",\n",
    "        \"07\", \"08\", \"09\",\n",
    "        \"10\", \"11\", \"12\",\n",
    "        \"13\", \"14\", \"15\",\n",
    "        \"16\", \"17\", \"18\",\n",
    "        \"19\", \"20\", \"21\",\n",
    "        \"22\", \"23\", \"24\",\n",
    "        \"25\", \"26\", \"27\",\n",
    "        \"28\", \"29\", \"30\",\n",
    "        \"31\"]"
   ]
  },
  {
   "cell_type": "markdown",
   "id": "c9edb620",
   "metadata": {},
   "source": [
    "### 1.6. Set Geographical Area (example: YongDam-Dam Watershed in South Korea - North:36, South:35, West:127, East:128)"
   ]
  },
  {
   "cell_type": "markdown",
   "id": "693f0efe",
   "metadata": {},
   "source": [
    "<img src=\"./fig/CMIP6_6.png\" width=\"1100\">"
   ]
  },
  {
   "cell_type": "code",
   "execution_count": null,
   "id": "645d74b7",
   "metadata": {},
   "outputs": [],
   "source": [
    "area = [36, 127, 35, 128]"
   ]
  },
  {
   "cell_type": "markdown",
   "id": "4bbc84af",
   "metadata": {},
   "source": [
    "### 1.7. Download GCM historical data using API"
   ]
  },
  {
   "cell_type": "code",
   "execution_count": null,
   "id": "ef0e3fac",
   "metadata": {},
   "outputs": [],
   "source": [
    "request = {\n",
    "    \"temporal_resolution\": temporal_resolution,\n",
    "    \"experiment\": experiment,\n",
    "    \"variable\": variable,\n",
    "    \"model\": model,\n",
    "    \"year\": year,\n",
    "    \"month\": month,\n",
    "    \"day\": day,\n",
    "    \"area\": area\n",
    "}\n",
    "\n",
    "client.retrieve(dataset, request).download()"
   ]
  },
  {
   "cell_type": "markdown",
   "id": "38f01761",
   "metadata": {},
   "source": [
    "### 1.8. Unzip Downloaded Data"
   ]
  },
  {
   "cell_type": "markdown",
   "id": "cb086a33",
   "metadata": {},
   "source": [
    "#### Copy and Paste the name of downloaded data in the cell below"
   ]
  },
  {
   "cell_type": "code",
   "execution_count": null,
   "id": "aa7f223b",
   "metadata": {},
   "outputs": [],
   "source": [
    "!unzip 730ac7e838f9e9c0abdca2f53cd745a7.zip"
   ]
  },
  {
   "cell_type": "markdown",
   "id": "479ba104",
   "metadata": {},
   "source": [
    "### 1.9. Read and Plot GCM Historical Data"
   ]
  },
  {
   "cell_type": "code",
   "execution_count": null,
   "id": "59c9f34f-fd4b-4c6d-9058-7ee76bc30796",
   "metadata": {},
   "outputs": [],
   "source": [
    "# read a nc file\n",
    "import xarray as xr\n",
    "\n",
    "reanalysis_data = xr.open_dataset('pr_day_EC-Earth3-CC_historical_r1i1p1f1_gr_20000101-20141231.nc')\n",
    "reanalysis_data"
   ]
  },
  {
   "cell_type": "code",
   "execution_count": null,
   "id": "06d2a312",
   "metadata": {},
   "outputs": [],
   "source": [
    "reanalysis_data['pr'] = reanalysis_data['pr'][:] * 86400"
   ]
  },
  {
   "cell_type": "code",
   "execution_count": null,
   "id": "99974084-4517-4d27-aedf-b91706f5b86f",
   "metadata": {},
   "outputs": [],
   "source": [
    "import matplotlib.pyplot as plt\n",
    "# plot\n",
    "fig, ax = plt.subplots(figsize=(15,5))\n",
    "x=reanalysis_data.time.values\n",
    "y=reanalysis_data.pr.values[:,0,0]\n",
    "\n",
    "ax.plot(x, y, linewidth=2.0)\n",
    "plt.show()"
   ]
  },
  {
   "cell_type": "markdown",
   "id": "94c449eb",
   "metadata": {},
   "source": [
    "## 2. Download GCM SSP Scenario data"
   ]
  },
  {
   "cell_type": "markdown",
   "id": "06f3ac6a",
   "metadata": {},
   "source": [
    "### 2.1 Set Temporal Resolution"
   ]
  },
  {
   "cell_type": "markdown",
   "id": "e946d195",
   "metadata": {},
   "source": [
    "<img src=\"./fig/CMIP6_1.png\" width=\"1100\">"
   ]
  },
  {
   "cell_type": "code",
   "execution_count": null,
   "id": "94d4c2aa",
   "metadata": {},
   "outputs": [],
   "source": [
    "temporal_resolution = \"daily\""
   ]
  },
  {
   "cell_type": "markdown",
   "id": "3952c776",
   "metadata": {},
   "source": [
    "### 2.2 Set Experiment \"SSP3-7.0\""
   ]
  },
  {
   "cell_type": "markdown",
   "id": "703ac462",
   "metadata": {},
   "source": [
    "<img src=\"./fig/CMIP6_2_1.png\" width=\"1100\">"
   ]
  },
  {
   "cell_type": "code",
   "execution_count": null,
   "id": "574b4b7e",
   "metadata": {},
   "outputs": [],
   "source": [
    "experiment = 'ssp2_4_5'"
   ]
  },
  {
   "cell_type": "markdown",
   "id": "1f2fdc0c",
   "metadata": {},
   "source": [
    "### 2.4 Set Variable (example: precipitation)"
   ]
  },
  {
   "cell_type": "markdown",
   "id": "729dfd14",
   "metadata": {},
   "source": [
    "<img src=\"./fig/CMIP6_3.png\" width=\"1100\">"
   ]
  },
  {
   "cell_type": "code",
   "execution_count": null,
   "id": "559e1a16",
   "metadata": {},
   "outputs": [],
   "source": [
    "variable = 'precipitation',"
   ]
  },
  {
   "cell_type": "markdown",
   "id": "9402f815",
   "metadata": {},
   "source": [
    "### 2.5 Set Model (example: EC-Earth3-CC(Europe))"
   ]
  },
  {
   "cell_type": "markdown",
   "id": "e91b6665",
   "metadata": {},
   "source": [
    "<img src=\"./fig/model.png\" width=\"1100\">"
   ]
  },
  {
   "cell_type": "code",
   "execution_count": null,
   "id": "c7158424",
   "metadata": {},
   "outputs": [],
   "source": [
    "model =  'ec_earth3_cc'"
   ]
  },
  {
   "cell_type": "markdown",
   "id": "2a66baa6",
   "metadata": {},
   "source": [
    "### 2.6 Set Temporal subset: 2050-01-01 ~ 2099-12-31"
   ]
  },
  {
   "cell_type": "markdown",
   "id": "a0d2118f",
   "metadata": {},
   "source": [
    "<img src=\"./fig/CMIP6_5_1_1.png\" width=\"1100\">"
   ]
  },
  {
   "cell_type": "markdown",
   "id": "6d028eb8",
   "metadata": {},
   "source": [
    "<img src=\"./fig/CMIP6_5_2.png\" width=\"1100\">"
   ]
  },
  {
   "cell_type": "code",
   "execution_count": null,
   "id": "966c23ee",
   "metadata": {},
   "outputs": [],
   "source": [
    "year = [\"2050\", \"2051\", \"2052\",\n",
    "        \"2053\", \"2054\", \"2055\",\n",
    "        \"2056\", \"2057\", \"2058\",\n",
    "        \"2059\", \"2060\", \"2061\",\n",
    "        \"2062\", \"2063\", \"2064\",\n",
    "        \"2065\", \"2066\", \"2067\",\n",
    "        \"2068\", \"2069\", \"2070\",\n",
    "        \"2071\", \"2072\", \"2073\",\n",
    "        \"2074\", \"2075\", \"2076\",\n",
    "        \"2077\", \"2078\", \"2079\",\n",
    "        \"2080\", \"2081\", \"2082\",\n",
    "        \"2083\", \"2084\", \"2085\",\n",
    "        \"2086\", \"2087\", \"2088\",\n",
    "        \"2089\", \"2090\", \"2091\",\n",
    "        \"2092\", \"2093\", \"2094\",\n",
    "        \"2095\", \"2096\", \"2097\",\n",
    "        \"2098\", \"2099\"]"
   ]
  },
  {
   "cell_type": "code",
   "execution_count": null,
   "id": "074bf28f",
   "metadata": {},
   "outputs": [],
   "source": [
    "month = [\"01\", \"02\", \"03\",\n",
    "        \"04\", \"05\", \"06\",\n",
    "        \"07\", \"08\", \"09\",\n",
    "        \"10\", \"11\", \"12\"]"
   ]
  },
  {
   "cell_type": "code",
   "execution_count": null,
   "id": "70739729",
   "metadata": {},
   "outputs": [],
   "source": [
    "day = [ \"01\", \"02\", \"03\",\n",
    "        \"04\", \"05\", \"06\",\n",
    "        \"07\", \"08\", \"09\",\n",
    "        \"10\", \"11\", \"12\",\n",
    "        \"13\", \"14\", \"15\",\n",
    "        \"16\", \"17\", \"18\",\n",
    "        \"19\", \"20\", \"21\",\n",
    "        \"22\", \"23\", \"24\",\n",
    "        \"25\", \"26\", \"27\",\n",
    "        \"28\", \"29\", \"30\",\n",
    "        \"31\"]"
   ]
  },
  {
   "cell_type": "markdown",
   "id": "d5a73228",
   "metadata": {},
   "source": [
    "### 2.6. Set Geographical Area (example: YongDam-Dam Watershed in South Korea - North:36, South:35, West:127, East:128)"
   ]
  },
  {
   "cell_type": "markdown",
   "id": "24fb1cce",
   "metadata": {},
   "source": [
    "<img src=\"./fig/CMIP6_6.png\" width=\"1100\">"
   ]
  },
  {
   "cell_type": "code",
   "execution_count": null,
   "id": "62e21896",
   "metadata": {},
   "outputs": [],
   "source": [
    "area = [36, 127, 35, 128]"
   ]
  },
  {
   "cell_type": "markdown",
   "id": "001640ef",
   "metadata": {},
   "source": [
    "### 2.7. Download GCM historical data using API"
   ]
  },
  {
   "cell_type": "code",
   "execution_count": null,
   "id": "1cd2ff1e",
   "metadata": {},
   "outputs": [],
   "source": [
    "request = {\n",
    "    \"temporal_resolution\": temporal_resolution,\n",
    "    \"experiment\": experiment,\n",
    "    \"variable\": variable,\n",
    "    \"model\": model,\n",
    "    \"year\": year,\n",
    "    \"month\": month,\n",
    "    \"day\": day,\n",
    "    \"area\": area\n",
    "}\n",
    "\n",
    "client.retrieve(dataset, request).download()"
   ]
  },
  {
   "cell_type": "markdown",
   "id": "9e95303b",
   "metadata": {},
   "source": [
    "### 2.8. Unzip Downloaded Data"
   ]
  },
  {
   "cell_type": "markdown",
   "id": "2340a2ca",
   "metadata": {},
   "source": [
    "#### Copy and Paste the name of downloaded data in the cell below"
   ]
  },
  {
   "cell_type": "code",
   "execution_count": null,
   "id": "6695d71d",
   "metadata": {},
   "outputs": [],
   "source": [
    "!unzip -n 380d7debc8869a3b35d46b1fdee4b3e2.zip"
   ]
  },
  {
   "cell_type": "markdown",
   "id": "33ce0bd6",
   "metadata": {},
   "source": [
    "### 2.9. Read and Plot GCM Historical Data"
   ]
  },
  {
   "cell_type": "code",
   "execution_count": null,
   "id": "19a0c3a1",
   "metadata": {},
   "outputs": [],
   "source": [
    "# read a nc file\n",
    "import xarray as xr\n",
    "\n",
    "reanalysis_data = xr.open_dataset('pr_day_EC-Earth3-CC_ssp245_r1i1p1f1_gr_20500101-20991231.nc')\n",
    "reanalysis_data"
   ]
  },
  {
   "cell_type": "code",
   "execution_count": null,
   "id": "79a1dd6d",
   "metadata": {},
   "outputs": [],
   "source": [
    "reanalysis_data['pr'] = reanalysis_data['pr'][:] * 86400"
   ]
  },
  {
   "cell_type": "code",
   "execution_count": null,
   "id": "319d1a6d",
   "metadata": {},
   "outputs": [],
   "source": [
    "import matplotlib.pyplot as plt\n",
    "# plot\n",
    "fig, ax = plt.subplots(figsize=(15,5))\n",
    "x=reanalysis_data.time.values\n",
    "y=reanalysis_data.pr.values[:,0,0]\n",
    "\n",
    "ax.plot(x, y, linewidth=2.0)\n",
    "plt.show()"
   ]
  }
 ],
 "metadata": {
  "kernelspec": {
   "display_name": "climate_change",
   "language": "python",
   "name": "python3"
  },
  "language_info": {
   "codemirror_mode": {
    "name": "ipython",
    "version": 3
   },
   "file_extension": ".py",
   "mimetype": "text/x-python",
   "name": "python",
   "nbconvert_exporter": "python",
   "pygments_lexer": "ipython3",
   "version": "3.10.13"
  }
 },
 "nbformat": 4,
 "nbformat_minor": 5
}
