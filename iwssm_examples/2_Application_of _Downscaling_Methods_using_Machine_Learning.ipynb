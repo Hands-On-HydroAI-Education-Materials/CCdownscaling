{
 "cells": [
  {
   "cell_type": "markdown",
   "id": "28500540",
   "metadata": {},
   "source": [
    "# Application of Downscaling Methods using Machine Learning: YongDam-Dam Watershed in South Korea"
   ]
  },
  {
   "cell_type": "markdown",
   "id": "0d1300bf",
   "metadata": {},
   "source": [
    "## 1. Import required Python Libraries"
   ]
  },
  {
   "cell_type": "code",
   "execution_count": null,
   "id": "de1a5672",
   "metadata": {},
   "outputs": [],
   "source": [
    "import sys\n",
    "import random\n",
    "\n",
    "import xarray\n",
    "import pandas as pd\n",
    "import numpy as np\n",
    "import sklearn\n",
    "import matplotlib\n",
    "import matplotlib.pyplot as plt\n",
    "import seaborn as sns\n",
    "from statsmodels.tsa.stattools import acf\n",
    "\n",
    "sys.path.append(\"../\")\n",
    "from ccdown import correction_downscale_methods, distribution_tests, error_metrics, utilities\n",
    "\n",
    "import warnings\n",
    "warnings.filterwarnings(\"ignore\")\n",
    "\n",
    "# for reproducibility\n",
    "seed = 1\n",
    "random.seed(seed)"
   ]
  },
  {
   "cell_type": "markdown",
   "id": "dd628001",
   "metadata": {},
   "source": [
    "## 2. Read Observation Weather data"
   ]
  },
  {
   "cell_type": "markdown",
   "id": "9e3e4ae2",
   "metadata": {},
   "source": [
    "* I used Yong-Dam Dam Watershed Average Rainfall as an observation data."
   ]
  },
  {
   "cell_type": "code",
   "execution_count": null,
   "id": "ccfb4062",
   "metadata": {},
   "outputs": [],
   "source": [
    "# set a rainfall variable and station id\n",
    "downscaling_target='precip'\n",
    "station_id='YD_Dam_Average_Daily_Rainfall'"
   ]
  },
  {
   "cell_type": "code",
   "execution_count": null,
   "id": "689f30a4",
   "metadata": {},
   "outputs": [],
   "source": [
    "# read observation weather data\n",
    "station_data = pd.read_csv('./data/obs/' + station_id + '.csv')\n",
    "station_data = station_data.replace(to_replace=[99.99, 9999.9], value=np.nan)\n",
    "station_data[\"date\"] = pd.to_datetime(station_data[\"date\"]).dt.strftime('%Y-%m-%d')\n",
    "station_data"
   ]
  },
  {
   "cell_type": "code",
   "execution_count": null,
   "id": "80413e05",
   "metadata": {},
   "outputs": [],
   "source": [
    "import datetime\n",
    "dt_series = []\n",
    "for date in station_data['date']:\n",
    "    datetimeobj = datetime.datetime(int(str(date)[0:4]), int(str(date)[5:7]), int(str(date)[8:10]))\n",
    "    dt_series.append(datetimeobj)\n",
    "dt_series"
   ]
  },
  {
   "cell_type": "code",
   "execution_count": null,
   "id": "d508631e",
   "metadata": {},
   "outputs": [],
   "source": [
    "station_data[\"date\"] = dt_series\n",
    "station_data[\"precip\"] = station_data[\"RF\"]\n",
    "station_data"
   ]
  },
  {
   "cell_type": "markdown",
   "id": "285d43f3",
   "metadata": {},
   "source": [
    "## 3. Read GCM historical data"
   ]
  },
  {
   "cell_type": "code",
   "execution_count": null,
   "id": "7e66b1fa",
   "metadata": {},
   "outputs": [],
   "source": [
    "# read five nc files\n",
    "gcm_data = xarray.open_dataset('./data/cds/historical/pr_day_EC-Earth3-CC_historical_r1i1p1f1_gr_20000101-20141231.nc')\n",
    "gcm_data"
   ]
  },
  {
   "cell_type": "markdown",
   "id": "0cdaf861",
   "metadata": {},
   "source": [
    "### 3.1 Remove Feb-29, Feb-30 considering leap years"
   ]
  },
  {
   "cell_type": "code",
   "execution_count": null,
   "id": "87dc3f19",
   "metadata": {},
   "outputs": [],
   "source": [
    "start_year = 1850\n",
    "end_year = 2014\n",
    "leap_years = list(range(start_year + (4 - start_year % 4), end_year + 1, 4))\n",
    "leap_years.remove(leap_years[12])\n",
    "no_leap_years = list(range(start_year, end_year + 1, 1))\n",
    "li = no_leap_years\n",
    "remove_set = {3, 5}\n",
    "\n",
    "li = [i for i in li if i not in leap_years]\n",
    "li"
   ]
  },
  {
   "cell_type": "code",
   "execution_count": null,
   "id": "dd81a2d8",
   "metadata": {},
   "outputs": [],
   "source": [
    "# remove Feb-30\n",
    "for a_year in no_leap_years:\n",
    "    gcm_data = gcm_data.sel(time=~((gcm_data.time.dt.year == a_year) & (gcm_data.time.dt.month == 2) & (gcm_data.time.dt.day == 30)))"
   ]
  },
  {
   "cell_type": "code",
   "execution_count": null,
   "id": "2c352d18",
   "metadata": {},
   "outputs": [],
   "source": [
    "# remove Feb-29\n",
    "for a_year in li:\n",
    "    gcm_data = gcm_data.sel(time=~((gcm_data.time.dt.year == a_year) & (gcm_data.time.dt.month == 2) & (gcm_data.time.dt.day == 29)))"
   ]
  },
  {
   "cell_type": "code",
   "execution_count": null,
   "id": "a68be359",
   "metadata": {},
   "outputs": [],
   "source": [
    "gcm_data"
   ]
  },
  {
   "cell_type": "markdown",
   "id": "3dd0d687",
   "metadata": {},
   "source": [
    "### 3.2 Set Station Lat and Lon"
   ]
  },
  {
   "cell_type": "code",
   "execution_count": null,
   "id": "2273299d",
   "metadata": {},
   "outputs": [],
   "source": [
    "station_lat = 35.5\n",
    "station_lon = 127.5\n",
    "station_lat, station_lon"
   ]
  },
  {
   "cell_type": "markdown",
   "id": "026b2257",
   "metadata": {},
   "source": [
    "### 3.3 Change precipitation unit and extract data using analysis periods, lat and lon"
   ]
  },
  {
   "cell_type": "code",
   "execution_count": null,
   "id": "861bce0b",
   "metadata": {},
   "outputs": [],
   "source": [
    "# load GCM historical data\n",
    "gcm_data['pr'] = gcm_data['pr'] * 86400\n",
    "gcm_precip1 = gcm_data['pr'].sel(time=slice('2001-10-01','2014-9-30'))\n",
    "gcm_precip2 = gcm_precip1.sel(lat=station_lat, lon=station_lon, method='nearest').values\n",
    "gcm_precip = np.squeeze(gcm_precip2)"
   ]
  },
  {
   "cell_type": "code",
   "execution_count": null,
   "id": "97eb00cf",
   "metadata": {},
   "outputs": [],
   "source": [
    "total_date_df = pd.DataFrame(\n",
    "    {'date': pd.date_range(start='2001-10-01', end='2014-9-30', freq='1D'),\n",
    "    }\n",
    ")\n",
    "print(len(total_date_df))\n",
    "total_date_df[\"gcm_precip\"] = gcm_precip\n",
    "total_date_df"
   ]
  },
  {
   "cell_type": "markdown",
   "id": "3a8ce389",
   "metadata": {},
   "source": [
    "## 4. Merge Station Observation and GCM historical data"
   ]
  },
  {
   "cell_type": "code",
   "execution_count": null,
   "id": "f19ca1e0",
   "metadata": {},
   "outputs": [],
   "source": [
    "total_data = pd.merge(total_date_df, station_data, on=\"date\", how=\"left\")\n",
    "total_data"
   ]
  },
  {
   "cell_type": "code",
   "execution_count": null,
   "id": "ac15de82",
   "metadata": {},
   "outputs": [],
   "source": [
    "print(len(total_data[total_data.isna().any(axis=1)]))\n",
    "total_data[total_data.isna().any(axis=1)]"
   ]
  },
  {
   "cell_type": "code",
   "execution_count": null,
   "id": "d394ab8d",
   "metadata": {},
   "outputs": [],
   "source": [
    "# 결측이 없음을 확인함\n",
    "col_name = list(total_data)\n",
    "total_data[col_name] = total_data[col_name].interpolate(method=\"pad\")\n",
    "total_data[total_data.isna().any(axis=1)]"
   ]
  },
  {
   "cell_type": "code",
   "execution_count": null,
   "id": "95fb239a",
   "metadata": {},
   "outputs": [],
   "source": [
    "total_data = total_data.fillna(0)\n",
    "total_data"
   ]
  },
  {
   "cell_type": "markdown",
   "id": "c27e3894-84c9-4f81-b50e-b6d5e1fae1b7",
   "metadata": {},
   "source": [
    "## 6. Split train and test sets"
   ]
  },
  {
   "cell_type": "code",
   "execution_count": null,
   "id": "3f866224",
   "metadata": {},
   "outputs": [],
   "source": [
    "# split train and test sets:\n",
    "input_data = total_data[\"gcm_precip\"]\n",
    "hist_data = total_data[\"precip\"]\n",
    "train_split = int(len(total_data)*0.8)  # split out the first 80% data for the training data, last 20% data for the test set\n",
    "training_data = input_data[0:train_split].values.reshape(-1, 1)\n",
    "train_hist = hist_data[0:train_split].values.reshape(-1, 1)\n",
    "test_data = input_data[train_split:].values.reshape(-1, 1)\n",
    "test_hist = hist_data[train_split:].values.reshape(-1, 1)\n",
    "print(training_data.shape, test_data.shape)"
   ]
  },
  {
   "cell_type": "code",
   "execution_count": null,
   "id": "467f6212",
   "metadata": {},
   "outputs": [],
   "source": [
    "# intialize the different methods\n",
    "rf_two_part = correction_downscale_methods.two_step_random_forest()\n",
    "random_forest = sklearn.ensemble.RandomForestRegressor()\n",
    "qmap = correction_downscale_methods.quantile_mapping()\n",
    "linear = sklearn.linear_model.LinearRegression()"
   ]
  },
  {
   "cell_type": "markdown",
   "id": "e7f488a2-92c4-4504-a74d-e4dbaa10e25b",
   "metadata": {},
   "source": [
    "## 7. Train Climate Data"
   ]
  },
  {
   "cell_type": "code",
   "execution_count": null,
   "id": "db9a37af",
   "metadata": {},
   "outputs": [],
   "source": [
    "# train\n",
    "random_forest.fit(training_data, train_hist)\n",
    "rf_two_part.fit(training_data, train_hist)\n",
    "linear.fit(training_data, train_hist)\n",
    "qmap.fit(training_data, train_hist)"
   ]
  },
  {
   "cell_type": "markdown",
   "id": "50919032-dc84-42ba-acde-1b7ee23a1580",
   "metadata": {},
   "source": [
    "## 8. Test and Visualize Climate data "
   ]
  },
  {
   "cell_type": "code",
   "execution_count": null,
   "id": "4ff3fa80-c014-42f1-bf1a-553b9c022e63",
   "metadata": {},
   "outputs": [],
   "source": [
    "from sklearn.metrics import mean_squared_error\n",
    "from sklearn.metrics import mean_absolute_error\n",
    "#from sklearn.metrics import root_mean_squared_error"
   ]
  },
  {
   "cell_type": "code",
   "execution_count": null,
   "id": "8b869fd9",
   "metadata": {},
   "outputs": [],
   "source": [
    "# generate outputs from the test data\n",
    "random_forest_output = random_forest.predict(test_data)\n",
    "rf_two_part_output = rf_two_part.predict(test_data)\n",
    "qmap_output = qmap.predict(test_data)"
   ]
  },
  {
   "cell_type": "code",
   "execution_count": null,
   "id": "30c69407-a0b8-4fb1-a746-a0376ecdeeee",
   "metadata": {},
   "outputs": [],
   "source": [
    "mse = mean_squared_error(test_hist, random_forest_output)\n",
    "mae = mean_absolute_error(test_hist, random_forest_output)\n",
    "rmse = mean_squared_error(test_hist, random_forest_output, squared=False)\n",
    "mse, mae, rmse"
   ]
  },
  {
   "cell_type": "code",
   "execution_count": null,
   "id": "edcdcb8b",
   "metadata": {},
   "outputs": [],
   "source": [
    "import numpy as np\n",
    "import matplotlib.pyplot as plt\n",
    "\n",
    "fig, ax = plt.subplots(1, 1, figsize=(15,5))\n",
    "ax.plot(total_data[\"date\"][train_split:].values, test_hist, total_data[\"date\"][train_split:].values, random_forest_output)\n",
    "ax.set_xlabel('date')\n",
    "ax.set_ylabel('precipitation(mm/day)')\n",
    "ax.grid(True)\n",
    "ax.legend(['Observation', 'RF'])\n",
    "ax.set_title(f\"Test Performance of Random Forest Approach for Statistical Downscaling\\n( MSE:{mse:.1f}, MAE:{mae:.1f}, RMSE:{rmse:.1f} )\", fontsize=15)\n",
    "fig.tight_layout()\n",
    "plt.show()"
   ]
  },
  {
   "cell_type": "code",
   "execution_count": null,
   "id": "f86bb439-fb48-4069-9566-22f015bd663c",
   "metadata": {},
   "outputs": [],
   "source": [
    "mse = mean_squared_error(test_hist, rf_two_part_output)\n",
    "mae = mean_absolute_error(test_hist, rf_two_part_output)\n",
    "rmse = mean_squared_error(test_hist, rf_two_part_output, squared=False)\n",
    "mse, mae, rmse"
   ]
  },
  {
   "cell_type": "code",
   "execution_count": null,
   "id": "e93a65b3",
   "metadata": {},
   "outputs": [],
   "source": [
    "fig, ax = plt.subplots(1, 1, figsize=(15,5))\n",
    "ax.plot(total_data[\"date\"][train_split:].values, test_hist, total_data[\"date\"][train_split:].values, rf_two_part_output)\n",
    "ax.set_xlabel('date')\n",
    "ax.set_ylabel('precipitation(mm/day)')\n",
    "ax.grid(True)\n",
    "ax.legend(['Observation', 'RF_Two_Part'])\n",
    "ax.set_title(f\"Test Performance of Two Part Random Forest Approach for Statistical Downscaling\\n( MSE:{mse:.1f}, MAE:{mae:.1f}, RMSE:{rmse:.1f} )\", fontsize=15)\n",
    "fig.tight_layout()\n",
    "plt.show()"
   ]
  },
  {
   "cell_type": "code",
   "execution_count": null,
   "id": "1b15e2fc-4d79-4568-8e96-8be174e67318",
   "metadata": {},
   "outputs": [],
   "source": [
    "mse = mean_squared_error(test_hist, qmap_output)\n",
    "mae = mean_absolute_error(test_hist, qmap_output)\n",
    "rmse = mean_squared_error(test_hist, qmap_output, squared=False)\n",
    "mse, mae, rmse"
   ]
  },
  {
   "cell_type": "code",
   "execution_count": null,
   "id": "2919d7c2",
   "metadata": {},
   "outputs": [],
   "source": [
    "fig, ax = plt.subplots(1, 1, figsize=(15,5))\n",
    "ax.plot(total_data[\"date\"][train_split:].values, test_hist, total_data[\"date\"][train_split:].values, qmap_output)\n",
    "ax.set_xlabel('date')\n",
    "ax.set_ylabel('precipitation(mm/day)')\n",
    "ax.grid(True)\n",
    "ax.legend(['Observation', 'Quantile Mapping'])\n",
    "ax.set_title(f\"Test Performance of Quantile Mapping Approach for Statistical Downscaling\\n( MSE:{mse:.1f}, MAE:{mae:.1f}, RMSE:{rmse:.1f} )\", fontsize=15)\n",
    "fig.tight_layout()\n",
    "plt.show()"
   ]
  },
  {
   "cell_type": "markdown",
   "id": "52da8f85",
   "metadata": {},
   "source": [
    "## 9. Create Future Precipitations"
   ]
  },
  {
   "cell_type": "code",
   "execution_count": null,
   "id": "e0adcfb0",
   "metadata": {},
   "outputs": [],
   "source": [
    "# read five nc files\n",
    "scenario_data = xarray.open_dataset('./data/cds/projection/pr_day_EC-Earth3-CC_ssp245_r1i1p1f1_gr_20500101-20991231.nc')\n",
    "scenario_data"
   ]
  },
  {
   "cell_type": "markdown",
   "id": "75836a6f",
   "metadata": {},
   "source": [
    "### 9.1 Remove Feb-29, Feb-30 considering leap years"
   ]
  },
  {
   "cell_type": "code",
   "execution_count": null,
   "id": "c1e5ba5f",
   "metadata": {},
   "outputs": [],
   "source": [
    "start_year = 2022\n",
    "end_year = 2100\n",
    "leap_years = list(range(start_year + (4 - start_year % 4), end_year + 1, 4))\n",
    "leap_years.remove(leap_years[12])\n",
    "no_leap_years = list(range(start_year, end_year + 1, 1))\n",
    "li = no_leap_years\n",
    "remove_set = {3, 5}\n",
    "\n",
    "li = [i for i in li if i not in leap_years]\n",
    "li"
   ]
  },
  {
   "cell_type": "code",
   "execution_count": null,
   "id": "7f06782c",
   "metadata": {},
   "outputs": [],
   "source": [
    "# remove Feb-30\n",
    "for a_year in no_leap_years:\n",
    "    scenario_data = scenario_data.sel(time=~((scenario_data.time.dt.year == a_year) & (scenario_data.time.dt.month == 2) & (scenario_data.time.dt.day == 30)))"
   ]
  },
  {
   "cell_type": "code",
   "execution_count": null,
   "id": "84095978",
   "metadata": {},
   "outputs": [],
   "source": [
    "# remove Feb-29\n",
    "for a_year in li:\n",
    "    scenario_data = scenario_data.sel(time=~((scenario_data.time.dt.year == a_year) & (scenario_data.time.dt.month == 2) & (scenario_data.time.dt.day == 29)))"
   ]
  },
  {
   "cell_type": "markdown",
   "id": "779d740b",
   "metadata": {},
   "source": [
    "### 3.2 Set Station Lat and Lon"
   ]
  },
  {
   "cell_type": "code",
   "execution_count": null,
   "id": "3ffe2c28",
   "metadata": {},
   "outputs": [],
   "source": [
    "station_lat = 35.5\n",
    "station_lon = 127.5\n",
    "station_lat, station_lon"
   ]
  },
  {
   "cell_type": "markdown",
   "id": "94f12c9e",
   "metadata": {},
   "source": [
    "### 3.3 Change precipitation unit and extract data using analysis periods, lat and lon"
   ]
  },
  {
   "cell_type": "code",
   "execution_count": null,
   "id": "9072df95",
   "metadata": {},
   "outputs": [],
   "source": [
    "# load GCM historical data\n",
    "scenario_data['pr'] = scenario_data['pr'] * 86400\n",
    "scenario_data1 = scenario_data['pr'].sel(time=slice('2050-01-01','2099-12-31'))\n",
    "scenario_data2 = scenario_data1.sel(lat=station_lat, lon=station_lon, method='nearest').values\n",
    "scenario_precip = np.squeeze(scenario_data2)"
   ]
  },
  {
   "cell_type": "code",
   "execution_count": null,
   "id": "f2b683f0",
   "metadata": {},
   "outputs": [],
   "source": [
    "total_date_df = pd.DataFrame(\n",
    "    {'date': pd.date_range(start='2050-01-01', end='2099-12-30', freq='1D'),\n",
    "    }\n",
    ")\n",
    "print(len(total_date_df))\n",
    "total_date_df[\"scenario_precip\"] = scenario_precip\n",
    "total_date_df"
   ]
  },
  {
   "cell_type": "code",
   "execution_count": null,
   "id": "bcc0ab13",
   "metadata": {},
   "outputs": [],
   "source": [
    "# generate outputs from the test data\n",
    "random_forest_output = random_forest.predict(scenario_precip.reshape(-1, 1))\n",
    "rf_two_part_output = rf_two_part.predict(scenario_precip.reshape(-1, 1))\n",
    "qmap_output = qmap.predict(scenario_precip.reshape(-1, 1))"
   ]
  },
  {
   "cell_type": "code",
   "execution_count": null,
   "id": "74a1f497",
   "metadata": {},
   "outputs": [],
   "source": [
    "fig, ax = plt.subplots(1, 1, figsize=(15,5))\n",
    "ax.plot(total_date_df[\"date\"].values[0:365*3], random_forest_output[0:365*3])\n",
    "ax.set_xlabel('date')\n",
    "ax.set_ylabel('precipitation(mm/day)')\n",
    "ax.grid(True)\n",
    "ax.legend(['SSP2-4.5 Scenario (Random Forest)'])\n",
    "plt.title('SSP2-4.5 Scenario at YongDam-Dam Watershed from 2050 to 2052 years (Random Forest)', fontsize=17)\n",
    "fig.tight_layout()\n",
    "plt.show()"
   ]
  },
  {
   "cell_type": "code",
   "execution_count": null,
   "id": "342700b8",
   "metadata": {},
   "outputs": [],
   "source": [
    "fig, ax = plt.subplots(1, 1, figsize=(15,5))\n",
    "ax.plot(total_date_df[\"date\"].values[0:365*3], rf_two_part_output[0:365*3])\n",
    "ax.set_xlabel('date')\n",
    "ax.set_ylabel('precipitation(mm/day)')\n",
    "ax.grid(True)\n",
    "ax.legend(['SSP2-4.5 Scenario (Two Part Random Forest)'])\n",
    "plt.title('SSP2-4.5 Scenario at YongDam-Dam Watershed from 2050 to 2052 years (Two Part Random Forest)', fontsize=17)\n",
    "fig.tight_layout()\n",
    "plt.show()"
   ]
  },
  {
   "cell_type": "code",
   "execution_count": null,
   "id": "09fa05dd",
   "metadata": {},
   "outputs": [],
   "source": [
    "fig, ax = plt.subplots(1, 1, figsize=(15,5))\n",
    "ax.plot(total_date_df[\"date\"].values[0:365*3], qmap_output[0:365*3])\n",
    "ax.set_xlabel('date')\n",
    "ax.set_ylabel('precipitation(mm/day)')\n",
    "ax.grid(True)\n",
    "ax.legend(['SSP2-4.5 Scenario (Quantile Mapping)'])\n",
    "plt.title('SSP2-4.5 Scenario at YongDam-Dam Watershed from 2050 to 2052 years (Quantile Mapping)', fontsize=17)\n",
    "fig.tight_layout()\n",
    "plt.show()"
   ]
  },
  {
   "cell_type": "code",
   "execution_count": null,
   "id": "1ea52cf1",
   "metadata": {},
   "outputs": [],
   "source": [
    "fig, ax = plt.subplots(1, 1, figsize=(15,5))\n",
    "ax.plot(total_date_df[\"date\"].values[365*47:365*50], random_forest_output[365*47:365*50])\n",
    "ax.set_xlabel('date')\n",
    "ax.set_ylabel('precipitation(mm/day)')\n",
    "ax.grid(True)\n",
    "ax.legend(['SSP2-4.5 Scenario (Random Forest)'])\n",
    "plt.title('SSP2-4.5 Scenario at YongDam-Dam Watershed from 2097 to 2099 years (Random Forest)', fontsize=17)\n",
    "fig.tight_layout()\n",
    "plt.show()"
   ]
  },
  {
   "cell_type": "code",
   "execution_count": null,
   "id": "7eed89b7",
   "metadata": {},
   "outputs": [],
   "source": [
    "fig, ax = plt.subplots(1, 1, figsize=(15,5))\n",
    "ax.plot(total_date_df[\"date\"].values[365*47:365*50], random_forest_output[365*47:365*50])\n",
    "ax.set_xlabel('date')\n",
    "ax.set_ylabel('precipitation(mm/day)')\n",
    "ax.grid(True)\n",
    "ax.legend(['SSP2-4.5 Scenario (Two Part Random Forest)'])\n",
    "plt.title('SSP2-4.5 Scenario at YongDam-Dam Watershed from 2097 to 2099 years (Two Part Random Forest)', fontsize=17)\n",
    "fig.tight_layout()\n",
    "plt.show()"
   ]
  },
  {
   "cell_type": "code",
   "execution_count": null,
   "id": "36007e8c",
   "metadata": {},
   "outputs": [],
   "source": [
    "fig, ax = plt.subplots(1, 1, figsize=(15,5))\n",
    "ax.plot(total_date_df[\"date\"].values[365*47:365*50], random_forest_output[365*47:365*50])\n",
    "ax.set_xlabel('date')\n",
    "ax.set_ylabel('precipitation(mm/day)')\n",
    "ax.grid(True)\n",
    "ax.legend(['SSP2-4.5 Scenario (Quantile Mapping)'])\n",
    "plt.title('SSP2-4.5 Scenario at YongDam-Dam Watershed from 2097 to 2099 years (Quantile Mapping)', fontsize=17)\n",
    "fig.tight_layout()\n",
    "plt.show()"
   ]
  },
  {
   "cell_type": "code",
   "execution_count": null,
   "id": "91ec8706",
   "metadata": {},
   "outputs": [],
   "source": [
    "fig, ax = plt.subplots(1, 1, figsize=(15,5))\n",
    "ax.plot(total_date_df[\"date\"].values[0:], random_forest_output[0:])\n",
    "ax.set_xlabel('date')\n",
    "ax.set_ylabel('precipitation(mm/day)')\n",
    "ax.grid(True)\n",
    "ax.legend(['SSP2-4.5 Scenario (Random Forest)'])\n",
    "plt.title('SSP2-4.5 Scenario at YongDam-Dam Watershed from 2050 to 2099 years (Random Forest)', fontsize=17)\n",
    "fig.tight_layout()\n",
    "plt.show()"
   ]
  },
  {
   "cell_type": "code",
   "execution_count": null,
   "id": "ac73d0e0",
   "metadata": {},
   "outputs": [],
   "source": [
    "fig, ax = plt.subplots(1, 1, figsize=(15,5))\n",
    "ax.plot(total_date_df[\"date\"].values[0:], rf_two_part_output[0:])\n",
    "ax.set_xlabel('date')\n",
    "ax.set_ylabel('precipitation(mm/day)')\n",
    "ax.grid(True)\n",
    "ax.legend(['SSP2-4.5 Scenario (Two Part Random Forest)'])\n",
    "plt.title('SSP2-4.5 Scenario at YongDam-Dam Watershed from 2050 to 2099 years (Two Part Random Forest)', fontsize=17)\n",
    "fig.tight_layout()\n",
    "plt.show()"
   ]
  },
  {
   "cell_type": "code",
   "execution_count": null,
   "id": "6654d24f",
   "metadata": {},
   "outputs": [],
   "source": [
    "fig, ax = plt.subplots(1, 1, figsize=(15,5))\n",
    "ax.plot(total_date_df[\"date\"].values[0:], qmap_output[0:])\n",
    "ax.set_xlabel('date')\n",
    "ax.set_ylabel('precipitation(mm/day)')\n",
    "ax.grid(True)\n",
    "ax.legend(['SSP2-4.5 Scenario (Quantile Mapping)'])\n",
    "plt.title('SSP2-4.5 Scenario at YongDam-Dam Watershed from 2050 to 2099 years (Quantile Mapping)', fontsize=17)\n",
    "fig.tight_layout()\n",
    "plt.show()"
   ]
  }
 ],
 "metadata": {
  "kernelspec": {
   "display_name": "climate_change",
   "language": "python",
   "name": "python3"
  },
  "language_info": {
   "codemirror_mode": {
    "name": "ipython",
    "version": 3
   },
   "file_extension": ".py",
   "mimetype": "text/x-python",
   "name": "python",
   "nbconvert_exporter": "python",
   "pygments_lexer": "ipython3",
   "version": "3.10.13"
  }
 },
 "nbformat": 4,
 "nbformat_minor": 5
}
